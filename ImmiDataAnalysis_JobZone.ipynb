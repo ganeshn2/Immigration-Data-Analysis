{
 "cells": [
  {
   "cell_type": "code",
   "execution_count": 1,
   "metadata": {
    "id": "ObfVJ6Oopaex"
   },
   "outputs": [],
   "source": [
    "import pandas as pd\n",
    "import re"
   ]
  },
  {
   "cell_type": "code",
   "execution_count": 2,
   "metadata": {
    "id": "KL4BEhblpae4"
   },
   "outputs": [],
   "source": [
    "salary_min_field = \"WAGE_OFFER_FROM_9089\"\n",
    "salary_max_field = \"WAGE_OFFER_TO_9089\"\n",
    "\n",
    "salary_freq_field = \"WAGE_OFFER_UNIT_OF_PAY_9089\"\n",
    "\n",
    "# salary_field = \"PW_AMOUNT_9089\"\n",
    "# salary_freq_field = \"PW_UNIT_OF_PAY_9089\""
   ]
  },
  {
   "cell_type": "code",
   "execution_count": 3,
   "metadata": {
    "id": "GJPpLHwnpae5"
   },
   "outputs": [],
   "source": [
    "job_zone_df = pd.read_csv('All_Job_Zones.csv')"
   ]
  },
  {
   "cell_type": "code",
   "execution_count": 4,
   "metadata": {
    "id": "XCBIyFCHpae5",
    "outputId": "8f418c4c-ac71-4b8b-f9db-31774f94eea9"
   },
   "outputs": [
    {
     "name": "stdout",
     "output_type": "stream",
     "text": [
      "    Job Zone     Code                                 Occupation   Full_Code\n",
      "0          5  11-1011                           Chief Executives  11-1011.00\n",
      "2          4  11-1021            General and Operations Managers  11-1021.00\n",
      "3          4  11-1031                                Legislators  11-1031.00\n",
      "4          4  11-2011        Advertising and Promotions Managers  11-2011.00\n",
      "5          4  11-2021                         Marketing Managers  11-2021.00\n",
      "6          4  11-2022                             Sales Managers  11-2022.00\n",
      "7          4  11-2031  Public Relations and Fundraising Managers  11-2031.00\n",
      "8          3  11-3011           Administrative Services Managers  11-3011.00\n",
      "9          4  11-3021  Computer and Information Systems Managers  11-3021.00\n",
      "10         5  11-3031                 Treasurers and Controllers  11-3031.01\n"
     ]
    }
   ],
   "source": [
    "job_zone_df['Full_Code'] = job_zone_df['Code']\n",
    "job_zone_df['Code'] = job_zone_df['Code'].str.split(\".\").str[0]\n",
    "job_zone_df.drop_duplicates(subset=['Code'], keep='first', inplace=True)\n",
    "print(job_zone_df.head(10))"
   ]
  },
  {
   "cell_type": "code",
   "execution_count": null,
   "metadata": {
    "id": "WTktF_RDpae6"
   },
   "outputs": [],
   "source": [
    "perm_data_df = pd.read_excel('PERM_Disclosure_Data_FY17.xlsx', sheet_name='FY17_EOQ4_PERM_DataDump')\n"
   ]
  },
  {
   "cell_type": "code",
   "execution_count": null,
   "metadata": {
    "id": "oPeY0g6cpae7",
    "outputId": "9c3aea06-5501-4661-ba65-1525d8827502"
   },
   "outputs": [],
   "source": [
    "print(list(perm_data_df))"
   ]
  },
  {
   "cell_type": "code",
   "execution_count": null,
   "metadata": {
    "id": "fgzzyEglpae7",
    "outputId": "8aaa52e7-925b-48bf-b96e-63ed0e917cd5"
   },
   "outputs": [],
   "source": [
    "groups = perm_data_df.groupby('CASE_STATUS')\n",
    "\n",
    "status_list = [\"Withdrawn\", \"Certified-Expired\", \"Certified\", \"Denied\"]\n",
    "count_by_status_list = []\n",
    "for status in status_list:\n",
    "    adict = dict()\n",
    "    adict['status'] = status\n",
    "    adict['count'] = groups.get_group(status)['CASE_NUMBER'].count()\n",
    "    count_by_status_list.append(adict)\n",
    "\n",
    "count_by_status_df = pd.DataFrame(count_by_status_list)\n",
    "print(count_by_status_df)\n"
   ]
  },
  {
   "cell_type": "code",
   "execution_count": 14,
   "metadata": {
    "id": "vulZgZs8pae8",
    "outputId": "6f37e41f-cb40-4c30-e016-e938f3aecdd1"
   },
   "outputs": [
    {
     "name": "stdout",
     "output_type": "stream",
     "text": [
      "      CASE_NUMBER  WAGE_OFFER_FROM_9089  WAGE_OFFER_TO_9089  annualized_min  \\\n",
      "11  A-16144-13619               68078.0                 NaN         68078.0   \n",
      "12  A-16202-34615               36566.0                 NaN         36566.0   \n",
      "13  A-16211-37294              112632.0                 NaN        112632.0   \n",
      "14  A-16097-93778               74000.0                 NaN         74000.0   \n",
      "15  A-16096-92998               74000.0                 NaN         74000.0   \n",
      "16  A-16189-30349              150500.0            173075.0        150500.0   \n",
      "17  A-16070-82635              114400.0                 NaN        114400.0   \n",
      "18  A-16033-67970               67995.0                 NaN         67995.0   \n",
      "19  A-16167-22350              148500.0            168500.0        148500.0   \n",
      "20  A-16167-22359              160000.0            173056.0        160000.0   \n",
      "\n",
      "    annualized_max  annualized  \n",
      "11         68078.0     68078.0  \n",
      "12         36566.0     36566.0  \n",
      "13        112632.0    112632.0  \n",
      "14         74000.0     74000.0  \n",
      "15         74000.0     74000.0  \n",
      "16        173075.0    161787.5  \n",
      "17        114400.0    114400.0  \n",
      "18         67995.0     67995.0  \n",
      "19        168500.0    158500.0  \n",
      "20        173056.0    166528.0  \n"
     ]
    }
   ],
   "source": [
    "perm_data_filtered_df = perm_data_df[(perm_data_df['CASE_STATUS'] == 'Certified') | (perm_data_df['CASE_STATUS'] == 'Certified-Expired')]\n",
    "perm_data_filtered_df = perm_data_filtered_df[~(perm_data_filtered_df[salary_freq_field].isnull())]\n",
    "\n",
    "for salary_field in [salary_min_field, salary_max_field]:\n",
    "    perm_data_filtered_df[salary_field] = perm_data_filtered_df[salary_field].str.replace(\",\", \"\")\n",
    "    perm_data_filtered_df[salary_field] = pd.to_numeric(perm_data_filtered_df[salary_field], errors='coerce')\n",
    "\n",
    "hour = 40 * 52\n",
    "week = 52\n",
    "biweekly = 26\n",
    "month = 12\n",
    "\n",
    "def annualize_min(x):\n",
    "    offer = x[salary_min_field]\n",
    "    offer_unit = x[salary_freq_field]\n",
    "    return annualize(offer, offer_unit)\n",
    "    \n",
    "def annualize_max(x):\n",
    "    offer = x[salary_max_field]\n",
    "    if pd.isnull(offer):\n",
    "        offer = x[salary_min_field]\n",
    "        \n",
    "    offer_unit = x[salary_freq_field]\n",
    "    return annualize(offer, offer_unit)\n",
    "\n",
    "def annualize(offer, offer_unit):\n",
    "    annualized = offer\n",
    "    \n",
    "    if offer_unit == 'Hour':\n",
    "        annualized = offer * hour\n",
    "    elif offer_unit == 'Week':\n",
    "        annualized = offer * week\n",
    "    elif offer_unit == 'Bi-Weekly':\n",
    "        annualized = offer * biweekly\n",
    "    elif offer_unit == 'Month':\n",
    "        annualized = offer * month\n",
    "    \n",
    "    return annualized\n",
    "\n",
    "def annualize_mean(x):\n",
    "    return (x['annualized_min'] + x['annualized_max']) / 2\n",
    "\n",
    "perm_data_filtered_df['annualized_min'] = perm_data_filtered_df.apply(annualize_min, axis=1)\n",
    "perm_data_filtered_df['annualized_max'] = perm_data_filtered_df.apply(annualize_max, axis=1)\n",
    "perm_data_filtered_df['annualized'] = perm_data_filtered_df.apply(annualize_mean, axis=1)\n",
    "\n",
    "print(perm_data_filtered_df[['CASE_NUMBER', salary_min_field, salary_max_field, 'annualized_min', 'annualized_max', 'annualized']].head(10))"
   ]
  },
  {
   "cell_type": "code",
   "execution_count": 27,
   "metadata": {
    "id": "8UiqDut0pae8",
    "outputId": "b9899347-1c13-49cf-9c1c-1718eb71b40a"
   },
   "outputs": [
    {
     "name": "stdout",
     "output_type": "stream",
     "text": [
      "                  Country  JobZone_Mean  JobZone_Median  Salary_Mean  \\\n",
      "0                   India          4.05             4.0    110616.35   \n",
      "1                   China          3.96             4.0    105431.17   \n",
      "2         India and China          4.03             4.0    109852.26   \n",
      "3         ROW Minus India          3.71             4.0     90335.04   \n",
      "4  ROW Minus India, China          3.65             4.0     86281.56   \n",
      "\n",
      "   Salary_STDEV  Salary_Median  \n",
      "0      30009.59       107363.5  \n",
      "1      40600.95       112467.8  \n",
      "2      31845.43       108000.0  \n",
      "3      51417.93        87069.0  \n",
      "4      53230.70        80000.0  \n"
     ]
    }
   ],
   "source": [
    "merged_df = pd.merge(perm_data_filtered_df,job_zone_df, how='left', left_on='PW_SOC_CODE', right_on='Code')\n",
    "merged_df = merged_df[((merged_df['annualized'] >= 13624) & (merged_df['annualized'] < 300000))]\n",
    "job_zone_list = []\n",
    "\n",
    "india_df = merged_df[(merged_df['FW_INFO_BIRTH_COUNTRY'] == 'INDIA')]\n",
    "job_zone_dict = dict()\n",
    "job_zone_dict['Country'] = 'India'\n",
    "job_zone_dict['JobZone_Mean'] = round(india_df['Job Zone'].mean(), 2)\n",
    "job_zone_dict['JobZone_Median'] = round(india_df['Job Zone'].median(), 2)\n",
    "job_zone_dict['Salary_Mean'] = round(india_df['annualized'].mean(), 2)\n",
    "job_zone_dict['Salary_STDEV'] = round(india_df['annualized'].std(),2)\n",
    "job_zone_dict['Salary_Median'] = round(india_df['annualized'].median(), 2)\n",
    "job_zone_list.append(job_zone_dict)\n",
    "\n",
    "china_df = merged_df[(merged_df['FW_INFO_BIRTH_COUNTRY'] == 'CHINA')]\n",
    "job_zone_dict = dict()\n",
    "job_zone_dict['Country'] = 'China'\n",
    "job_zone_dict['JobZone_Mean'] = round(china_df['Job Zone'].mean(), 2)\n",
    "job_zone_dict['JobZone_Median'] = round(china_df['Job Zone'].median(), 2)\n",
    "job_zone_dict['Salary_Mean'] = round(china_df['annualized'].mean(), 2)\n",
    "job_zone_dict['Salary_STDEV'] = round(china_df['annualized'].std(),2)\n",
    "job_zone_dict['Salary_Median'] = round(china_df['annualized'].median(), 2)\n",
    "job_zone_list.append(job_zone_dict)\n",
    "\n",
    "indochina_df = merged_df[((merged_df['FW_INFO_BIRTH_COUNTRY'] == 'CHINA') | (merged_df['FW_INFO_BIRTH_COUNTRY'] == 'INDIA'))]\n",
    "job_zone_dict = dict()\n",
    "job_zone_dict['Country'] = 'India and China'\n",
    "job_zone_dict['JobZone_Mean'] = round(indochina_df['Job Zone'].mean(), 2)\n",
    "job_zone_dict['JobZone_Median'] = round(indochina_df['Job Zone'].median(), 2)\n",
    "job_zone_dict['Salary_Mean'] = round(indochina_df['annualized'].mean(), 2)\n",
    "job_zone_dict['Salary_STDEV'] = round(indochina_df['annualized'].std(),2)\n",
    "job_zone_dict['Salary_Median'] = round(indochina_df['annualized'].median(), 2)\n",
    "job_zone_list.append(job_zone_dict)\n",
    "\n",
    "row_minus_india_df = merged_df[~(merged_df['FW_INFO_BIRTH_COUNTRY'] == 'INDIA')]\n",
    "job_zone_dict = dict()\n",
    "job_zone_dict['Country'] = 'ROW Minus India'\n",
    "job_zone_dict['JobZone_Mean'] = round(row_minus_india_df['Job Zone'].mean(), 2)\n",
    "job_zone_dict['JobZone_Median'] = round(row_minus_india_df['Job Zone'].median(), 2)\n",
    "job_zone_dict['Salary_Mean'] = round(row_minus_india_df['annualized'].mean(), 2)\n",
    "job_zone_dict['Salary_STDEV'] = round(row_minus_india_df['annualized'].std(),2)\n",
    "job_zone_dict['Salary_Median'] = round(row_minus_india_df['annualized'].median(), 2)\n",
    "job_zone_list.append(job_zone_dict)\n",
    "\n",
    "row_minus_indochina_df = merged_df[~((merged_df['FW_INFO_BIRTH_COUNTRY'] == 'INDIA') | (merged_df['FW_INFO_BIRTH_COUNTRY'] == 'CHINA'))]\n",
    "job_zone_dict = dict()\n",
    "job_zone_dict['Country'] = 'ROW Minus India, China'\n",
    "job_zone_dict['JobZone_Mean'] = round(row_minus_indochina_df['Job Zone'].mean(), 2)\n",
    "job_zone_dict['JobZone_Median'] = round(row_minus_indochina_df['Job Zone'].median(), 2)\n",
    "job_zone_dict['Salary_STDEV'] = round(row_minus_indochina_df['annualized'].std(),2)\n",
    "job_zone_dict['Salary_Mean'] = round(row_minus_indochina_df['annualized'].mean(), 2)\n",
    "job_zone_dict['Salary_Median'] = round(row_minus_indochina_df['annualized'].median(), 2)\n",
    "job_zone_list.append(job_zone_dict)\n",
    "\n",
    "stats_df = pd.DataFrame(job_zone_list)\n",
    "print(stats_df)\n"
   ]
  },
  {
   "cell_type": "code",
   "execution_count": 68,
   "metadata": {},
   "outputs": [],
   "source": [
    "\n",
    "stats_df.to_csv('job_zone_salary_analysis.csv')"
   ]
  },
  {
   "cell_type": "code",
   "execution_count": null,
   "metadata": {},
   "outputs": [],
   "source": []
  }
 ],
 "metadata": {
  "colab": {
   "name": "ImmiDataAnalysis-JobZone.ipynb",
   "provenance": []
  },
  "kernelspec": {
   "display_name": "Python 3",
   "language": "python",
   "name": "python3"
  },
  "language_info": {
   "codemirror_mode": {
    "name": "ipython",
    "version": 3
   },
   "file_extension": ".py",
   "mimetype": "text/x-python",
   "name": "python",
   "nbconvert_exporter": "python",
   "pygments_lexer": "ipython3",
   "version": "3.7.4"
  }
 },
 "nbformat": 4,
 "nbformat_minor": 4
}
